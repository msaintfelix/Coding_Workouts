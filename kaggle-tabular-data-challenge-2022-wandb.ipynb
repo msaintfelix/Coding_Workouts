{
 "cells": [
  {
   "cell_type": "code",
   "execution_count": 1,
   "metadata": {
    "_cell_guid": "b1076dfc-b9ad-4769-8c92-a6c4dae69d19",
    "_uuid": "8f2839f25d086af736a60e9eeb907d3b93b6e0e5",
    "execution": {
     "iopub.execute_input": "2022-05-19T18:27:16.851369Z",
     "iopub.status.busy": "2022-05-19T18:27:16.850927Z",
     "iopub.status.idle": "2022-05-19T18:27:16.867577Z",
     "shell.execute_reply": "2022-05-19T18:27:16.866733Z",
     "shell.execute_reply.started": "2022-05-19T18:27:16.851255Z"
    }
   },
   "outputs": [],
   "source": [
    "# This Python 3 environment comes with many helpful analytics libraries installed\n",
    "# It is defined by the kaggle/python Docker image: https://github.com/kaggle/docker-python\n",
    "# For example, here's several helpful packages to load\n",
    "\n",
    "import numpy as np # linear algebra\n",
    "import pandas as pd # data processing, CSV file I/O (e.g. pd.read_csv)\n",
    "\n",
    "# Input data files are available in the read-only \"../input/\" directory\n",
    "# For example, running this (by clicking run or pressing Shift+Enter) will list all files under the input directory\n",
    "\n",
    "import os\n",
    "for dirname, _, filenames in os.walk('/kaggle/input'):\n",
    "    for filename in filenames:\n",
    "        print(os.path.join(dirname, filename))\n",
    "\n",
    "# You can write up to 20GB to the current directory (/kaggle/working/) that gets preserved as output when you create a version using \"Save & Run All\" \n",
    "# You can also write temporary files to /kaggle/temp/, but they won't be saved outside of the current session"
   ]
  },
  {
   "cell_type": "code",
   "execution_count": 2,
   "metadata": {
    "execution": {
     "iopub.execute_input": "2022-05-19T18:27:17.748907Z",
     "iopub.status.busy": "2022-05-19T18:27:17.748630Z",
     "iopub.status.idle": "2022-05-19T18:27:17.753182Z",
     "shell.execute_reply": "2022-05-19T18:27:17.752186Z",
     "shell.execute_reply.started": "2022-05-19T18:27:17.748878Z"
    }
   },
   "outputs": [],
   "source": [
    "#!pip install wandb"
   ]
  },
  {
   "cell_type": "code",
   "execution_count": 3,
   "metadata": {
    "execution": {
     "iopub.execute_input": "2022-05-19T18:27:18.469539Z",
     "iopub.status.busy": "2022-05-19T18:27:18.469270Z",
     "iopub.status.idle": "2022-05-19T18:27:20.830986Z",
     "shell.execute_reply": "2022-05-19T18:27:20.830105Z",
     "shell.execute_reply.started": "2022-05-19T18:27:18.469511Z"
    }
   },
   "outputs": [],
   "source": [
    "from sklearn.model_selection import train_test_split\n",
    "from sklearn.metrics import roc_auc_score, confusion_matrix\n",
    "import numpy as np\n",
    "import tensorflow as tf\n",
    "import wandb\n",
    "from wandb.keras import WandbCallback"
   ]
  },
  {
   "cell_type": "code",
   "execution_count": 4,
   "metadata": {
    "execution": {
     "iopub.execute_input": "2022-05-19T18:27:21.950737Z",
     "iopub.status.busy": "2022-05-19T18:27:21.949961Z",
     "iopub.status.idle": "2022-05-19T18:27:22.495234Z",
     "shell.execute_reply": "2022-05-19T18:27:22.494250Z",
     "shell.execute_reply.started": "2022-05-19T18:27:21.950685Z"
    }
   },
   "outputs": [],
   "source": [
    "wandb.login()"
   ]
  },
  {
   "cell_type": "code",
   "execution_count": 5,
   "metadata": {
    "execution": {
     "iopub.execute_input": "2022-05-19T18:27:22.692938Z",
     "iopub.status.busy": "2022-05-19T18:27:22.692658Z",
     "iopub.status.idle": "2022-05-19T18:27:27.515663Z",
     "shell.execute_reply": "2022-05-19T18:27:27.514839Z",
     "shell.execute_reply.started": "2022-05-19T18:27:22.692909Z"
    }
   },
   "outputs": [],
   "source": [
    "wandb.init(project=\"Tabular_Data_Kaggle_Competition\")"
   ]
  },
  {
   "cell_type": "code",
   "execution_count": 6,
   "metadata": {
    "execution": {
     "iopub.execute_input": "2022-05-19T18:35:29.371578Z",
     "iopub.status.busy": "2022-05-19T18:35:29.371280Z",
     "iopub.status.idle": "2022-05-19T18:35:43.145960Z",
     "shell.execute_reply": "2022-05-19T18:35:43.145199Z",
     "shell.execute_reply.started": "2022-05-19T18:35:29.371549Z"
    }
   },
   "outputs": [],
   "source": [
    "df_train = pd.read_csv('/kaggle/input/tabular-playground-series-may-2022/train.csv')\n",
    "df_test = pd.read_csv('/kaggle/input/tabular-playground-series-may-2022/test.csv')"
   ]
  },
  {
   "cell_type": "code",
   "execution_count": 7,
   "metadata": {
    "execution": {
     "iopub.execute_input": "2022-05-19T18:35:44.045017Z",
     "iopub.status.busy": "2022-05-19T18:35:44.044391Z",
     "iopub.status.idle": "2022-05-19T18:35:44.102040Z",
     "shell.execute_reply": "2022-05-19T18:35:44.101154Z",
     "shell.execute_reply.started": "2022-05-19T18:35:44.044960Z"
    }
   },
   "outputs": [],
   "source": [
    "X = df_train.drop([\"id\", \"f_27\", \"target\"], axis=1)\n",
    "y = df_train.target.values"
   ]
  },
  {
   "cell_type": "code",
   "execution_count": 8,
   "metadata": {
    "execution": {
     "iopub.execute_input": "2022-05-19T18:35:44.809444Z",
     "iopub.status.busy": "2022-05-19T18:35:44.808509Z",
     "iopub.status.idle": "2022-05-19T18:35:47.293697Z",
     "shell.execute_reply": "2022-05-19T18:35:47.292856Z",
     "shell.execute_reply.started": "2022-05-19T18:35:44.809376Z"
    }
   },
   "outputs": [],
   "source": [
    "cor_train = df_train.corr()\n",
    "cor_train.target.sort_values(ascending = False).head(10)"
   ]
  },
  {
   "cell_type": "code",
   "execution_count": 9,
   "metadata": {
    "execution": {
     "iopub.execute_input": "2022-05-19T18:35:48.079347Z",
     "iopub.status.busy": "2022-05-19T18:35:48.078802Z",
     "iopub.status.idle": "2022-05-19T18:35:48.688100Z",
     "shell.execute_reply": "2022-05-19T18:35:48.687218Z",
     "shell.execute_reply.started": "2022-05-19T18:35:48.079310Z"
    }
   },
   "outputs": [],
   "source": [
    "X_train, X_val, y_train, y_val = train_test_split(X, y, test_size=0.2, stratify=y)"
   ]
  },
  {
   "cell_type": "code",
   "execution_count": 10,
   "metadata": {
    "execution": {
     "iopub.execute_input": "2022-05-19T18:35:49.583076Z",
     "iopub.status.busy": "2022-05-19T18:35:49.582788Z",
     "iopub.status.idle": "2022-05-19T18:35:49.590519Z",
     "shell.execute_reply": "2022-05-19T18:35:49.589760Z",
     "shell.execute_reply.started": "2022-05-19T18:35:49.583038Z"
    }
   },
   "outputs": [],
   "source": [
    "X.shape[1]"
   ]
  },
  {
   "cell_type": "code",
   "execution_count": 15,
   "metadata": {
    "execution": {
     "iopub.execute_input": "2022-05-19T18:41:19.869280Z",
     "iopub.status.busy": "2022-05-19T18:41:19.868728Z",
     "iopub.status.idle": "2022-05-19T18:41:19.879469Z",
     "shell.execute_reply": "2022-05-19T18:41:19.878472Z",
     "shell.execute_reply.started": "2022-05-19T18:41:19.869242Z"
    }
   },
   "outputs": [],
   "source": [
    "wandb.config = {\n",
    "  \"learning_rate\": 0.001,\n",
    "  \"epochs\": 15,\n",
    "  \"batch_size\": 32\n",
    "}"
   ]
  },
  {
   "cell_type": "code",
   "execution_count": 12,
   "metadata": {
    "execution": {
     "iopub.execute_input": "2022-05-19T18:35:51.467691Z",
     "iopub.status.busy": "2022-05-19T18:35:51.467065Z",
     "iopub.status.idle": "2022-05-19T18:35:54.522441Z",
     "shell.execute_reply": "2022-05-19T18:35:54.521526Z",
     "shell.execute_reply.started": "2022-05-19T18:35:51.467653Z"
    }
   },
   "outputs": [],
   "source": [
    "model = tf.keras.models.Sequential([\n",
    "    tf.keras.layers.Flatten(input_shape=(30,)),\n",
    "    tf.keras.layers.Dense(512, activation='relu'),\n",
    "    tf.keras.layers.Dense(512, activation='relu'),\n",
    "    tf.keras.layers.Dense(256, activation='relu'),\n",
    "    tf.keras.layers.Dense(128, activation='relu'),\n",
    "    tf.keras.layers.Dense(64, activation='relu'), \n",
    "    tf.keras.layers.Dense(1, activation='sigmoid')\n",
    "    ])"
   ]
  },
  {
   "cell_type": "code",
   "execution_count": 18,
   "metadata": {
    "execution": {
     "iopub.execute_input": "2022-05-19T18:43:53.332851Z",
     "iopub.status.busy": "2022-05-19T18:43:53.332099Z",
     "iopub.status.idle": "2022-05-19T18:43:53.362826Z",
     "shell.execute_reply": "2022-05-19T18:43:53.362065Z",
     "shell.execute_reply.started": "2022-05-19T18:43:53.332809Z"
    }
   },
   "outputs": [],
   "source": [
    "model.compile(optimizer = tf.keras.optimizers.RMSprop(learning_rate=wandb.config['learning_rate']),\n",
    "             loss='binary_crossentropy',\n",
    "              metrics = ['acc']\n",
    "             )\n",
    "\n",
    "model.summary()"
   ]
  },
  {
   "cell_type": "code",
   "execution_count": 19,
   "metadata": {
    "execution": {
     "iopub.execute_input": "2022-05-19T18:44:15.453625Z",
     "iopub.status.busy": "2022-05-19T18:44:15.453359Z",
     "iopub.status.idle": "2022-05-19T18:44:15.605271Z",
     "shell.execute_reply": "2022-05-19T18:44:15.604434Z",
     "shell.execute_reply.started": "2022-05-19T18:44:15.453595Z"
    }
   },
   "outputs": [],
   "source": [
    "inputs_train = np.array(X_train)\n",
    "inputs_val = np.array(X_val)"
   ]
  },
  {
   "cell_type": "code",
   "execution_count": 20,
   "metadata": {
    "execution": {
     "iopub.execute_input": "2022-05-19T18:44:16.406328Z",
     "iopub.status.busy": "2022-05-19T18:44:16.405715Z",
     "iopub.status.idle": "2022-05-19T19:02:11.212035Z",
     "shell.execute_reply": "2022-05-19T19:02:11.211183Z",
     "shell.execute_reply.started": "2022-05-19T18:44:16.406291Z"
    }
   },
   "outputs": [],
   "source": [
    "history = model.fit(inputs_train, y_train, \n",
    "                    validation_data=(inputs_val, y_val), \n",
    "                    epochs=wandb.config['epochs'],\n",
    "                    batch_size=wandb.config['batch_size'],\n",
    "                    callbacks=[WandbCallback()]\n",
    "                   )"
   ]
  },
  {
   "cell_type": "code",
   "execution_count": 22,
   "metadata": {
    "execution": {
     "iopub.execute_input": "2022-05-19T19:05:26.219550Z",
     "iopub.status.busy": "2022-05-19T19:05:26.218892Z",
     "iopub.status.idle": "2022-05-19T19:05:30.421063Z",
     "shell.execute_reply": "2022-05-19T19:05:30.420337Z",
     "shell.execute_reply.started": "2022-05-19T19:05:26.219508Z"
    }
   },
   "outputs": [],
   "source": [
    "wandb.finish()"
   ]
  },
  {
   "cell_type": "code",
   "execution_count": null,
   "metadata": {},
   "outputs": [],
   "source": [
    "model.save('MyTF_Model.h5')"
   ]
  },
  {
   "cell_type": "code",
   "execution_count": null,
   "metadata": {},
   "outputs": [],
   "source": [
    "#MyModel = load_model('MyTF_Model.h5')\n",
    "#MyModel.summary() "
   ]
  },
  {
   "cell_type": "code",
   "execution_count": null,
   "metadata": {},
   "outputs": [],
   "source": [
    "X_test = df_test.drop([\"id\", \"f_27\"], axis=1)"
   ]
  },
  {
   "cell_type": "code",
   "execution_count": null,
   "metadata": {},
   "outputs": [],
   "source": [
    "preds = (model.predict(X_test) > 0.5).astype(\"int32\")"
   ]
  },
  {
   "cell_type": "code",
   "execution_count": null,
   "metadata": {},
   "outputs": [],
   "source": [
    "sub = pd.DataFrame(np.column_stack((list(df_test['id']), preds)), columns=[\"id\", \"target\"])"
   ]
  },
  {
   "cell_type": "code",
   "execution_count": null,
   "metadata": {},
   "outputs": [],
   "source": [
    "sub.to_csv(\"submission.csv\", index=False)"
   ]
  },
  {
   "cell_type": "code",
   "execution_count": null,
   "metadata": {},
   "outputs": [],
   "source": []
  }
 ],
 "metadata": {
  "kernelspec": {
   "display_name": "Python 3",
   "language": "python",
   "name": "python3"
  },
  "language_info": {
   "codemirror_mode": {
    "name": "ipython",
    "version": 3
   },
   "file_extension": ".py",
   "mimetype": "text/x-python",
   "name": "python",
   "nbconvert_exporter": "python",
   "pygments_lexer": "ipython3",
   "version": "3.8.5"
  }
 },
 "nbformat": 4,
 "nbformat_minor": 4
}
